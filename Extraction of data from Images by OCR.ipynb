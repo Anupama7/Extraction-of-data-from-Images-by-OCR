{
 "cells": [
  {
   "cell_type": "code",
   "execution_count": null,
   "metadata": {},
   "outputs": [
    {
     "name": "stdout",
     "output_type": "stream",
     "text": [
      "9\n",
      "0\n"
     ]
    }
   ],
   "source": [
    "import cv2\n",
    "import pytesseract\n",
    "import os\n",
    "from PIL import Image\n",
    "import sys\n",
    "import numpy as np\n",
    "import pandas as pd\n",
    "import re\n",
    "\n",
    "pytesseract.pytesseract.tesseract_cmd = r\"C:\\Program Files\\Tesseract-OCR\\tesseract.exe\"\n",
    "\n",
    "def get_string(img_path):\n",
    "    # Read image with opencv\n",
    "    img = cv2.imread(img_path)\n",
    "\n",
    "    # Convert to gray\n",
    "    img = cv2.cvtColor(img, cv2.COLOR_BGR2GRAY)\n",
    "    #print(img)\n",
    "    # Apply dilation and erosion to remove some noise\n",
    "    kernel = np.ones((1, 1), np.uint8)\n",
    "    img = cv2.dilate(img, kernel, iterations=1)\n",
    "    img = cv2.erode(img, kernel, iterations=1)\n",
    "\n",
    "    # Write the image after apply opencv to do some ...\n",
    "    cv2.imwrite(\"thres.png\", img)\n",
    "    # Recognize text with tesseract for python\n",
    "    result = pytesseract.image_to_string(Image.open(\"thres.png\"))\n",
    "    os.remove(\"thres.png\")\n",
    "    #return result\n",
    "    text = str(result)\n",
    "    text = text.replace(\"\\\\n\", \"\")\n",
    "    print(text)\n",
    "\n",
    "    return text\n",
    "\n",
    "\n",
    "\n",
    "def get_dir(dir):\n",
    "    mypath = dir\n",
    "    onlyfiles = [os.path.join(mypath, f) for f in os.listdir(mypath) if os.path.isfile(os.path.join(mypath, f))]\n",
    "    print(len(onlyfiles))\n",
    "    final_database=pd.DataFrame()\n",
    "    i = 0\n",
    "    while i<len(onlyfiles):\n",
    "        # if onlyfiles and allowed_file(onlyfiles):\n",
    "        print(i)\n",
    "        file = onlyfiles[i]\n",
    "        #data = get_string(file)\n",
    "         # Read image with opencv\n",
    "        img = cv2.imread(file)\n",
    "\n",
    "        # Convert to gray\n",
    "        img = cv2.cvtColor(img, cv2.COLOR_BGR2GRAY)\n",
    "        #print(img)\n",
    "        # Apply dilation and erosion to remove some noise\n",
    "        kernel = np.ones((1, 1), np.uint8)\n",
    "        img = cv2.dilate(img, kernel, iterations=1)\n",
    "        img = cv2.erode(img, kernel, iterations=1)\n",
    "\n",
    "        # Write the image after apply opencv to do some ...\n",
    "        cv2.imwrite(\"thres.png\", img)\n",
    "        # Recognize text with tesseract for python\n",
    "        result = pytesseract.image_to_string(Image.open(\"thres.png\"))\n",
    "        os.remove(\"thres.png\")\n",
    "        #return result\n",
    "        text = str(result)\n",
    "        text = text.replace(\"\\\\n\", \"\")\n",
    "        pan = extract_PAN(text)\n",
    "        print('------ Done -------')\n",
    "        i = i+1\n",
    "        #print(pan)\n",
    "    return pan\n",
    "\n",
    "        \n",
    "def extract_PAN(text):\n",
    "    result = re.findall(r\"[A-Z]{5}[0-9]{4}[A-Z]|[0-9]{4}[^\\S\\n\\t][0-9]{4}[^\\S\\n\\t][0-9]{4}\",text)\n",
    "    return (result) \n",
    "\n",
    " \n",
    "get_dir(r'C:\\Users\\Anupama\\Tika_ExtractionOfContent\\PAN')"
   ]
  },
  {
   "cell_type": "code",
   "execution_count": null,
   "metadata": {},
   "outputs": [],
   "source": []
  }
 ],
 "metadata": {
  "kernelspec": {
   "display_name": "Python 3",
   "language": "python",
   "name": "python3"
  },
  "language_info": {
   "codemirror_mode": {
    "name": "ipython",
    "version": 3
   },
   "file_extension": ".py",
   "mimetype": "text/x-python",
   "name": "python",
   "nbconvert_exporter": "python",
   "pygments_lexer": "ipython3",
   "version": "3.6.5"
  }
 },
 "nbformat": 4,
 "nbformat_minor": 2
}
